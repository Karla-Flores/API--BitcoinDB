{
 "cells": [
  {
   "cell_type": "code",
   "execution_count": 23,
   "metadata": {},
   "outputs": [],
   "source": [
    "# Dependencies and Setp up\n",
    "import json\n",
    "import requests\n",
    "import pandas as pd\n",
    "import numpy as np\n",
    "import datetime as dt\n",
    "\n",
    "# API keys\n",
    "from api_keys import YOUR_API_KEY"
   ]
  },
  {
   "cell_type": "code",
   "execution_count": 39,
   "metadata": {},
   "outputs": [],
   "source": [
    "# curl https://api.dev.dex.guru/v1/chain/?api-key=YOUR_API_KEY\n",
    "url_ = f'https://api.dev.dex.guru/v1/chain/{chain_id}/tokens/market'"
   ]
  },
  {
   "cell_type": "code",
   "execution_count": 16,
   "metadata": {},
   "outputs": [],
   "source": [
    "chain_id =[1,56,137,43114,42161,42220,250]"
   ]
  },
  {
   "cell_type": "code",
   "execution_count": 40,
   "metadata": {},
   "outputs": [
    {
     "data": {
      "text/plain": [
       "[{'detail': 'API key required'},\n",
       " {'detail': 'API key required'},\n",
       " {'detail': 'API key required'},\n",
       " {'detail': 'API key required'},\n",
       " {'detail': 'API key required'},\n",
       " {'detail': 'API key required'},\n",
       " {'detail': 'API key required'}]"
      ]
     },
     "execution_count": 40,
     "metadata": {},
     "output_type": "execute_result"
    }
   ],
   "source": [
    "c =[]\n",
    "for i in chain_id:\n",
    "    response = requests.get(f'https://api.dev.dex.guru/v1/chain/{i}/tokens/market').json()\n",
    "    c.append(response)\n",
    "    \n",
    "c"
   ]
  },
  {
   "cell_type": "code",
   "execution_count": 32,
   "metadata": {},
   "outputs": [
    {
     "data": {
      "text/plain": [
       "'{\"id\":\"0x8076c74c5e3f5852037f31ff0093eeb8c8add8d3-bsc\",\"address\":\"0x8076c74c5e3f5852037f31ff0093eeb8c8add8d3\",\"symbol\":\"SAFEMOON\",\"name\":\"SafeMoon\",\"description\":\"SafeMoon/SAFEMOON\",\"txns24h\":18177,\"txns24hChange\":-0.07955235973263115,\"verified\":true,\"decimals\":9,\"volume24h\":2494199593822.5903,\"volume24hUSD\":10770171.384557148,\"volume24hETH\":138586.2825658841,\"volumeChange24h\":0.005661650282334341,\"liquidityUSD\":54153949.727784194,\"liquidityETH\":1093523.5960284306,\"liquidityChange24h\":-0.020742944053446694,\"logoURI\":\"https://assets-stage.dex.guru/icons/0x8076c74c5e3f5852037f31ff0093eeb8c8add8d3-bsc.png\",\"priceUSD\":4.418994446755504e-06,\"priceETH\":5.3095994739637176e-08,\"priceChange24h\":0.09899213554407563,\"priceUSDChange24h\":0.09899213554407563,\"priceETHChange24h\":-0.09013047081143617,\"timestamp\":1636161381,\"blockNumber\":10008555,\"AMM\":\"pancakeswap\",\"network\":\"bsc\",\"tokenListsNames\":null}'"
      ]
     },
     "execution_count": 32,
     "metadata": {},
     "output_type": "execute_result"
    }
   ],
   "source": [
    "import cloudscraper\n",
    "scraper = cloudscraper.create_scraper()\n",
    "c = scraper.get(\"https://api.dex.guru/v1/tokens/0x8076C74C5e3F5852037F31Ff0093Eeb8c8ADd8D3-bsc\").text\n",
    "c"
   ]
  },
  {
   "cell_type": "code",
   "execution_count": 36,
   "metadata": {},
   "outputs": [
    {
     "data": {
      "text/plain": [
       "'{\"detail\":[{\"loc\":[\"path\",\"chain_id\"],\"msg\":\"value is not a valid integer\",\"type\":\"type_error.integer\"}]}'"
      ]
     },
     "execution_count": 36,
     "metadata": {},
     "output_type": "execute_result"
    }
   ],
   "source": [
    "import cloudscraper\n",
    "scraper = cloudscraper.create_scraper()\n",
    "c = scraper.get(\"https://api.dev.dex.guru/v1/chain/0x8076C74C5e3F5852037F31Ff0093Eeb8c8ADd8D3-bsc\").text\n",
    "c"
   ]
  },
  {
   "cell_type": "code",
   "execution_count": 30,
   "metadata": {},
   "outputs": [],
   "source": [
    "# c= []\n",
    "# scraper = cloudscraper.create_scraper()\n",
    "# for i in chain_id:\n",
    "#     d = scraper.get(f'https://api.dev.dex.guru/v1/chain/{chain_id}/tokens/market/0x8076C74C5e3F5852037F31Ff0093Eeb8c8ADd8D3-bsc').text\n",
    "#     c.append(d)"
   ]
  },
  {
   "cell_type": "code",
   "execution_count": null,
   "metadata": {},
   "outputs": [],
   "source": []
  }
 ],
 "metadata": {
  "kernelspec": {
   "display_name": "Python [conda env:root] *",
   "language": "python",
   "name": "conda-root-py"
  },
  "language_info": {
   "codemirror_mode": {
    "name": "ipython",
    "version": 3
   },
   "file_extension": ".py",
   "mimetype": "text/x-python",
   "name": "python",
   "nbconvert_exporter": "python",
   "pygments_lexer": "ipython3",
   "version": "3.8.5"
  }
 },
 "nbformat": 4,
 "nbformat_minor": 4
}
