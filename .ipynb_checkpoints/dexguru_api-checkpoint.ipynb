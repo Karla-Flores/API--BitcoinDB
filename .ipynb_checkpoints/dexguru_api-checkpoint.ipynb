{
 "cells": [
  {
   "cell_type": "code",
   "execution_count": 1,
   "metadata": {},
   "outputs": [],
   "source": [
    "# Dependencies and Setp up\n",
    "import json\n",
    "import requests\n",
    "import pandas as pd\n",
    "import numpy as np\n",
    "import datetime as dt\n",
    "\n",
    "from requests import Request, Session\n",
    "from requests.exceptions import ConnectionError, Timeout, TooManyRedirects\n",
    "import json\n",
    "from pandas.io.json import json_normalize \n",
    "\n",
    "# API keys\n",
    "from api_keys import YOUR_API_KEY"
   ]
  },
  {
   "cell_type": "code",
   "execution_count": null,
   "metadata": {},
   "outputs": [],
   "source": [
    "# curl https://api.dev.dex.guru/v1/chain/?api-key=YOUR_API_KEY\n",
    "url_ = f'https://api.dev.dex.guru/v1/chain/{chain_id}/tokens/market'"
   ]
  },
  {
   "cell_type": "code",
   "execution_count": 3,
   "metadata": {},
   "outputs": [],
   "source": [
    "chain_id =[1,56,137,43114,42161,42220,250]"
   ]
  },
  {
   "cell_type": "code",
   "execution_count": null,
   "metadata": {},
   "outputs": [],
   "source": [
    "c =[]\n",
    "for i in chain_id:\n",
    "    response = requests.get(f'https://api.dev.dex.guru/v1/chain/{i}/tokens/market').json()\n",
    "    c.append(response)\n",
    "    \n",
    "c"
   ]
  },
  {
   "cell_type": "code",
   "execution_count": null,
   "metadata": {},
   "outputs": [],
   "source": [
    "import cloudscraper\n",
    "scraper = cloudscraper.create_scraper()\n",
    "c = scraper.get(\"https://api.dex.guru/v1/tokens/0x8076C74C5e3F5852037F31Ff0093Eeb8c8ADd8D3-bsc\").text\n",
    "c"
   ]
  },
  {
   "cell_type": "code",
   "execution_count": null,
   "metadata": {},
   "outputs": [],
   "source": [
    "import cloudscraper\n",
    "scraper = cloudscraper.create_scraper()\n",
    "c = scraper.get(\"https://api.dev.dex.guru/v1/chain/0x8076C74C5e3F5852037F31Ff0093Eeb8c8ADd8D3-bsc\").text\n",
    "c"
   ]
  },
  {
   "cell_type": "code",
   "execution_count": null,
   "metadata": {},
   "outputs": [],
   "source": [
    "# c= []\n",
    "# scraper = cloudscraper.create_scraper()\n",
    "# for i in chain_id:\n",
    "#     d = scraper.get(f'https://api.dev.dex.guru/v1/chain/{chain_id}/tokens/market/0x8076C74C5e3F5852037F31Ff0093Eeb8c8ADd8D3-bsc').text\n",
    "#     c.append(d)"
   ]
  },
  {
   "cell_type": "code",
   "execution_count": 13,
   "metadata": {},
   "outputs": [],
   "source": [
    "# url = 'https://pro-api.coinmarketcap.com/'\n",
    "url = f'https://api.dev.dex.guru/v1/chain/{chain_id}/tokens/market'\n",
    "parameters = {\n",
    "  'start':'1',\n",
    "  'limit':'100',\n",
    "  'convert':'USD'\n",
    "}\n",
    "headers = {\n",
    "  'Accepts': 'application/json',\n",
    "  'api-key': 'ATwTm9y8OC7uGVh0yH6tEsHVt4iCxCKbGtUraknnpEQ',\n",
    "}"
   ]
  },
  {
   "cell_type": "code",
   "execution_count": 14,
   "metadata": {},
   "outputs": [],
   "source": [
    "session = Session()\n",
    "session.headers.update(headers)\n",
    "\n",
    "\n",
    "try:\n",
    "  response = session.get(url, params=parameters)\n",
    "  data = json.loads(response.text)\n",
    "except (ConnectionError, Timeout, TooManyRedirects) as e:\n",
    "  print(e)"
   ]
  },
  {
   "cell_type": "code",
   "execution_count": 15,
   "metadata": {},
   "outputs": [
    {
     "data": {
      "text/plain": [
       "{'detail': [{'loc': ['path', 'chain_id'],\n",
       "   'msg': 'value is not a valid integer',\n",
       "   'type': 'type_error.integer'}]}"
      ]
     },
     "execution_count": 15,
     "metadata": {},
     "output_type": "execute_result"
    }
   ],
   "source": [
    "data"
   ]
  },
  {
   "cell_type": "code",
   "execution_count": 16,
   "metadata": {},
   "outputs": [
    {
     "data": {
      "text/plain": [
       "{'total': 4,\n",
       " 'data': [{'chain_id': 43114,\n",
       "   'name': 'avalanche',\n",
       "   'description': 'Avalanche Mainnet'},\n",
       "  {'chain_id': 1, 'name': 'eth', 'description': 'Etherium Mainnet'},\n",
       "  {'chain_id': 137, 'name': 'polygon', 'description': 'POLYGON Mainnet'},\n",
       "  {'chain_id': 56, 'name': 'bsc', 'description': 'BSC Mainnet'}]}"
      ]
     },
     "execution_count": 16,
     "metadata": {},
     "output_type": "execute_result"
    }
   ],
   "source": [
    "url = 'https://api.dev.dex.guru/v1/chain'\n",
    "response = requests.get(url).json()\n",
    "response"
   ]
  },
  {
   "cell_type": "code",
   "execution_count": 22,
   "metadata": {},
   "outputs": [
    {
     "data": {
      "text/plain": [
       "{'type': 'Internal Server Error',\n",
       " 'title': 'AttributeError',\n",
       " 'instance': 'http://localhost:8000/v1/chain/42161',\n",
       " 'detail': \"AttributeError at 'NoneType' object has no attribute 'id' when executing GET request\"}"
      ]
     },
     "execution_count": 22,
     "metadata": {},
     "output_type": "execute_result"
    }
   ],
   "source": [
    "# chain_id =[1,56,137,43114,42161,42220,250]\n",
    "url = 'https://api.dev.dex.guru/v1/chain/42161'\n",
    "response = requests.get(url).json()\n",
    "response"
   ]
  },
  {
   "cell_type": "code",
   "execution_count": 19,
   "metadata": {},
   "outputs": [
    {
     "data": {
      "text/plain": [
       "{'detail': [{'loc': ['path', 'chain_id'],\n",
       "   'msg': 'value is not a valid integer',\n",
       "   'type': 'type_error.integer'}]}"
      ]
     },
     "execution_count": 19,
     "metadata": {},
     "output_type": "execute_result"
    }
   ],
   "source": [
    "for i in chain_id:\n",
    "    url = f'https://api.dev.dex.guru/v1/chain/{chain_id}'\n",
    "    response = requests.get(url).json()\n",
    "response"
   ]
  },
  {
   "cell_type": "code",
   "execution_count": null,
   "metadata": {},
   "outputs": [],
   "source": []
  }
 ],
 "metadata": {
  "kernelspec": {
   "display_name": "Python [conda env:root] *",
   "language": "python",
   "name": "conda-root-py"
  },
  "language_info": {
   "codemirror_mode": {
    "name": "ipython",
    "version": 3
   },
   "file_extension": ".py",
   "mimetype": "text/x-python",
   "name": "python",
   "nbconvert_exporter": "python",
   "pygments_lexer": "ipython3",
   "version": "3.8.5"
  }
 },
 "nbformat": 4,
 "nbformat_minor": 4
}
